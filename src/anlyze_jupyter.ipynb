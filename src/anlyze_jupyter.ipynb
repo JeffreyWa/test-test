{
 "cells": [
  {
   "cell_type": "code",
   "execution_count": 3,
   "metadata": {},
   "outputs": [
    {
     "ename": "ModuleNotFoundError",
     "evalue": "No module named 'lib'",
     "output_type": "error",
     "traceback": [
      "\u001b[0;31m---------------------------------------------------------------------------\u001b[0m",
      "\u001b[0;31mModuleNotFoundError\u001b[0m                       Traceback (most recent call last)",
      "\u001b[1;32m/Users/lisawang/MIDS/706de/Individual-Project-1-Lisa/src/anlyze_jupyter.ipynb Cell 1\u001b[0m line \u001b[0;36m2\n\u001b[1;32m      <a href='vscode-notebook-cell:/Users/lisawang/MIDS/706de/Individual-Project-1-Lisa/src/anlyze_jupyter.ipynb#W0sZmlsZQ%3D%3D?line=0'>1</a>\u001b[0m \u001b[39mimport\u001b[39;00m \u001b[39mpandas\u001b[39;00m \u001b[39mas\u001b[39;00m \u001b[39mpd\u001b[39;00m\n\u001b[0;32m----> <a href='vscode-notebook-cell:/Users/lisawang/MIDS/706de/Individual-Project-1-Lisa/src/anlyze_jupyter.ipynb#W0sZmlsZQ%3D%3D?line=1'>2</a>\u001b[0m \u001b[39mimport\u001b[39;00m \u001b[39mlib\u001b[39;00m\u001b[39m.\u001b[39;00m\u001b[39mmylib\u001b[39;00m \u001b[39mas\u001b[39;00m \u001b[39mmylib\u001b[39;00m\n\u001b[1;32m      <a href='vscode-notebook-cell:/Users/lisawang/MIDS/706de/Individual-Project-1-Lisa/src/anlyze_jupyter.ipynb#W0sZmlsZQ%3D%3D?line=3'>4</a>\u001b[0m marketing_full \u001b[39m=\u001b[39mpd\u001b[39m.\u001b[39mread_csv(\u001b[39m\"\u001b[39m\u001b[39mdata/ifood_df.csv\u001b[39m\u001b[39m\"\u001b[39m)\n",
      "\u001b[0;31mModuleNotFoundError\u001b[0m: No module named 'lib'"
     ]
    }
   ],
   "source": [
    "import pandas as pd\n",
    "from lib import mylib\n",
    "\n",
    "\n",
    "\n",
    "marketing_full =pd.read_csv(\"data/ifood_df.csv\")"
   ]
  },
  {
   "cell_type": "code",
   "execution_count": 1,
   "metadata": {},
   "outputs": [
    {
     "ename": "NameError",
     "evalue": "name 'mylib' is not defined",
     "output_type": "error",
     "traceback": [
      "\u001b[0;31m---------------------------------------------------------------------------\u001b[0m",
      "\u001b[0;31mNameError\u001b[0m                                 Traceback (most recent call last)",
      "\u001b[1;32m/Users/lisawang/MIDS/706de/Individual-Project-1-Lisa/src/anlyze_jupyter.ipynb Cell 2\u001b[0m line \u001b[0;36m2\n\u001b[1;32m      <a href='vscode-notebook-cell:/Users/lisawang/MIDS/706de/Individual-Project-1-Lisa/src/anlyze_jupyter.ipynb#W1sZmlsZQ%3D%3D?line=0'>1</a>\u001b[0m \u001b[39m# use mylib.py to manipulate data\u001b[39;00m\n\u001b[0;32m----> <a href='vscode-notebook-cell:/Users/lisawang/MIDS/706de/Individual-Project-1-Lisa/src/anlyze_jupyter.ipynb#W1sZmlsZQ%3D%3D?line=1'>2</a>\u001b[0m marketing \u001b[39m=\u001b[39m mylib\u001b[39m.\u001b[39mmanipulate(marketing_full, \u001b[39m\"\u001b[39m\u001b[39mTotalSpending\u001b[39m\u001b[39m\"\u001b[39m, [\u001b[39m\"\u001b[39m\u001b[39mMntWines\u001b[39m\u001b[39m\"\u001b[39m, \u001b[39m\"\u001b[39m\u001b[39mMntFruits\u001b[39m\u001b[39m\"\u001b[39m, \u001b[39m\"\u001b[39m\u001b[39mMntMeatProducts\u001b[39m\u001b[39m\"\u001b[39m, \u001b[39m\"\u001b[39m\u001b[39mMntFishProducts\u001b[39m\u001b[39m\"\u001b[39m, \u001b[39m\"\u001b[39m\u001b[39mMntSweetProducts\u001b[39m\u001b[39m\"\u001b[39m], [\u001b[39m\"\u001b[39m\u001b[39mMntWines\u001b[39m\u001b[39m\"\u001b[39m, \u001b[39m\"\u001b[39m\u001b[39mMntMeatProducts\u001b[39m\u001b[39m\"\u001b[39m])\n\u001b[1;32m      <a href='vscode-notebook-cell:/Users/lisawang/MIDS/706de/Individual-Project-1-Lisa/src/anlyze_jupyter.ipynb#W1sZmlsZQ%3D%3D?line=2'>3</a>\u001b[0m marketing \u001b[39m=\u001b[39m mylib\u001b[39m.\u001b[39mmanipulate(marketing, \u001b[39m\"\u001b[39m\u001b[39mTotalSpending\u001b[39m\u001b[39m\"\u001b[39m, [\u001b[39m\"\u001b[39m\u001b[39mAcceptedCmp1\u001b[39m\u001b[39m\"\u001b[39m, \u001b[39m\"\u001b[39m\u001b[39mAcceptedCmp2\u001b[39m\u001b[39m\"\u001b[39m, \u001b[39m\"\u001b[39m\u001b[39mAcceptedCmp3\u001b[39m\u001b[39m\"\u001b[39m, \u001b[39m\"\u001b[39m\u001b[39mAcceptedCmp4\u001b[39m\u001b[39m\"\u001b[39m, \u001b[39m\"\u001b[39m\u001b[39mAcceptedCmp5\u001b[39m\u001b[39m\"\u001b[39m], [])\n\u001b[1;32m      <a href='vscode-notebook-cell:/Users/lisawang/MIDS/706de/Individual-Project-1-Lisa/src/anlyze_jupyter.ipynb#W1sZmlsZQ%3D%3D?line=3'>4</a>\u001b[0m marketing\u001b[39m.\u001b[39mdescribe()\n",
      "\u001b[0;31mNameError\u001b[0m: name 'mylib' is not defined"
     ]
    }
   ],
   "source": [
    "# use mylib.py to manipulate data\n",
    "marketing = mylib.manipulate(marketing_full, \"TotalSpending\", [\"MntWines\", \"MntFruits\", \"MntMeatProducts\", \"MntFishProducts\", \"MntSweetProducts\"], [\"MntWines\", \"MntMeatProducts\"])\n",
    "marketing = mylib.manipulate(marketing, \"TotalSpending\", [\"AcceptedCmp1\", \"AcceptedCmp2\", \"AcceptedCmp3\", \"AcceptedCmp4\", \"AcceptedCmp5\"], [])\n",
    "marketing.describe()"
   ]
  },
  {
   "cell_type": "code",
   "execution_count": null,
   "metadata": {},
   "outputs": [],
   "source": [
    "# use mylib.py to plot data\n",
    "mylib.plot(marketing, \"TotalSpending\", \"AcceptedOffer\")\n",
    "mylib.plot(marketing, \"TotalSpending\", \"AcceptedOffer\")"
   ]
  }
 ],
 "metadata": {
  "kernelspec": {
   "display_name": "Python 3",
   "language": "python",
   "name": "python3"
  },
  "language_info": {
   "codemirror_mode": {
    "name": "ipython",
    "version": 3
   },
   "file_extension": ".py",
   "mimetype": "text/x-python",
   "name": "python",
   "nbconvert_exporter": "python",
   "pygments_lexer": "ipython3",
   "version": "3.11.4"
  },
  "orig_nbformat": 4
 },
 "nbformat": 4,
 "nbformat_minor": 2
}
